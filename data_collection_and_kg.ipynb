{
 "cells": [
  {
   "cell_type": "markdown",
   "id": "fff85ee3",
   "metadata": {},
   "source": [
    "# Data Collection & Knowledge Graph\n",
    "This notebook was auto-generated for **chronic back pain**."
   ]
  },
  {
   "cell_type": "code",
   "execution_count": null,
   "id": "c139b7b7",
   "metadata": {},
   "outputs": [],
   "source": [
    "user_query = \"chronic back pain\"\n",
    "retmax = 100"
   ]
  },
  {
   "cell_type": "markdown",
   "id": "1ccffccc",
   "metadata": {},
   "source": [
    "## Retrieve Data from PubMed"
   ]
  },
  {
   "cell_type": "code",
   "execution_count": null,
   "id": "21b4604d",
   "metadata": {},
   "outputs": [],
   "source": [
    "from Bio import Entrez\n",
    "\n",
    "Entrez.email = 'jaydonkchen@gmail.com'\n",
    "handle = Entrez.esearch(db='pubmed', term=user_query, retmax=retmax)\n",
    "record = Entrez.read(handle)\n",
    "pubmed_ids = record['IdList']\n",
    "print(pubmed_ids[:5])\n"
   ]
  },
  {
   "cell_type": "markdown",
   "id": "ffbd45c9",
   "metadata": {},
   "source": [
    "## Load Ontologies"
   ]
  },
  {
   "cell_type": "code",
   "execution_count": null,
   "id": "2b8b7a39",
   "metadata": {},
   "outputs": [],
   "source": [
    "import pronto\n",
    "\n",
    "go = pronto.Ontology('http://purl.obolibrary.org/obo/go.owl')\n",
    "do = pronto.Ontology('http://purl.obolibrary.org/obo/doid.owl')\n",
    "hpo = pronto.Ontology('http://purl.obolibrary.org/obo/hp.owl')\n"
   ]
  },
  {
   "cell_type": "markdown",
   "id": "d8e04160",
   "metadata": {},
   "source": [
    "## Optional Web Scraping"
   ]
  },
  {
   "cell_type": "code",
   "execution_count": null,
   "id": "2896b9b8",
   "metadata": {},
   "outputs": [],
   "source": [
    "import requests\n",
    "from bs4 import BeautifulSoup\n",
    "\n",
    "url = 'https://example-biomedical-resource.com'\n",
    "response = requests.get(url)\n",
    "soup = BeautifulSoup(response.text, 'html.parser')\n"
   ]
  },
  {
   "cell_type": "code",
   "execution_count": null,
   "id": "d03fe03e",
   "metadata": {},
   "outputs": [],
   "source": []
  },
  {
   "cell_type": "markdown",
   "id": "848a18de",
   "metadata": {},
   "source": [
    "## NLP Preprocessing"
   ]
  },
  {
   "cell_type": "code",
   "execution_count": null,
   "id": "675b0534",
   "metadata": {},
   "outputs": [],
   "source": [
    "import spacy\n",
    "nlp = spacy.load('en_core_sci_sm')\n",
    "\n",
    "processed_docs = [nlp(text) for text in []]  # Replace with your abstracts list\n"
   ]
  },
  {
   "cell_type": "markdown",
   "id": "efe16e12",
   "metadata": {},
   "source": [
    "## Build Knowledge Graph with Neo4j"
   ]
  },
  {
   "cell_type": "code",
   "execution_count": null,
   "id": "d1f15bf3",
   "metadata": {},
   "outputs": [],
   "source": [
    "from neo4j import GraphDatabase\n",
    "\n",
    "driver = GraphDatabase.driver('neo4j://localhost:7687', auth=('neo4j', 'password'))\n",
    "with driver.session() as session:\n",
    "    session.run('CREATE (g:Gene {name: $name})', name='BRCA1')\n"
   ]
  },
  {
   "cell_type": "code",
   "execution_count": null,
   "id": "5be136bf",
   "metadata": {},
   "outputs": [],
   "source": []
  }
 ],
 "metadata": {
  "kernelspec": {
   "display_name": ".venv",
   "language": "python",
   "name": "python3"
  },
  "language_info": {
   "name": "python",
   "version": "3.12.6"
  }
 },
 "nbformat": 4,
 "nbformat_minor": 5
}
