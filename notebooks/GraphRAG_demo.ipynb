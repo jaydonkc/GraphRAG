{
 "cells": [
  {
   "cell_type": "markdown",
   "metadata": {},
   "source": [
    "# GraphRAG Demo\n",
    "This notebook demonstrates the end-to-end workflow for building a small biomedical knowledge graph and querying it using the GraphReader agent."
   ]
  },
  {
   "cell_type": "code",
   "metadata": {},
   "source": [
    "from graphrag_data_pipeline import fetch_pubmed, connect_neo4j, load_to_graph\n",
    "from graphreader_agent import GraphReaderAgent"
   ]
  },
  {
   "cell_type": "code",
   "metadata": {},
   "source": [
    "query = 'BRCA1 protein interactions'\n",
    "email = 'your_email@example.com'\n",
    "docs = fetch_pubmed(query, email, retmax=5)"
   ]
  },
  {
   "cell_type": "code",
   "metadata": {},
   "source": [
    "driver = connect_neo4j('bolt://localhost:7687', 'neo4j', 'password')\n",
    "import spacy\n",
    "nlp = spacy.load('en_core_web_sm')\n",
    "load_to_graph(driver, docs, nlp)"
   ]
  },
  {
   "cell_type": "code",
   "metadata": {},
   "source": [
    "agent = GraphReaderAgent('bolt://localhost:7687', 'neo4j', 'password')\n",
    "agent.run('What proteins interact with BRCA1?')"
   ]
  }
 ],
 "metadata": {
  "kernelspec": {
   "display_name": "Python 3",
   "language": "python",
   "name": "python3"
  },
  "language_info": {
   "name": "python",
   "pygments_lexer": "ipython3"
  }
 },
 "nbformat": 4,
 "nbformat_minor": 5
}
